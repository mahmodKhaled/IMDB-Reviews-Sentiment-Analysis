{
  "cells": [
    {
      "cell_type": "markdown",
      "metadata": {
        "id": "xavDbFak8-6T"
      },
      "source": [
        "## Useful Imports"
      ]
    },
    {
      "cell_type": "code",
      "execution_count": 1,
      "metadata": {
        "colab": {
          "base_uri": "https://localhost:8080/"
        },
        "execution": {
          "iopub.execute_input": "2023-03-14T20:11:03.579503Z",
          "iopub.status.busy": "2023-03-14T20:11:03.579098Z",
          "iopub.status.idle": "2023-03-14T20:11:03.587581Z",
          "shell.execute_reply": "2023-03-14T20:11:03.586382Z",
          "shell.execute_reply.started": "2023-03-14T20:11:03.579467Z"
        },
        "id": "teJnhBr98-6X",
        "outputId": "5a2102ea-da67-4d86-b1fb-d2e2c3cc0101"
      },
      "outputs": [
        {
          "name": "stderr",
          "output_type": "stream",
          "text": [
            "[nltk_data] Downloading package punkt to /root/nltk_data...\n",
            "[nltk_data]   Unzipping tokenizers/punkt.zip.\n",
            "[nltk_data] Downloading package stopwords to /root/nltk_data...\n",
            "[nltk_data]   Unzipping corpora/stopwords.zip.\n",
            "[nltk_data] Downloading package wordnet to /root/nltk_data...\n"
          ]
        }
      ],
      "source": [
        "import numpy as np\n",
        "import pandas as pd\n",
        "import matplotlib.pyplot as plt\n",
        "import seaborn as sns\n",
        "import tensorflow as tf\n",
        "from sklearn.model_selection import train_test_split\n",
        "import re\n",
        "from bs4 import BeautifulSoup\n",
        "import nltk\n",
        "from nltk.corpus import stopwords\n",
        "from nltk.stem import PorterStemmer\n",
        "nltk.download('punkt')\n",
        "nltk.download('stopwords')\n",
        "nltk.download('wordnet')\n",
        "from tensorflow.keras.layers import Dense, LSTM, Bidirectional, Embedding, Dropout\n",
        "from tensorflow.keras.models import Sequential\n",
        "from tensorflow.keras.layers import TextVectorization"
      ]
    },
    {
      "cell_type": "markdown",
      "metadata": {
        "id": "J2ttnk2y8-6Z"
      },
      "source": [
        "## Load Dataset file"
      ]
    },
    {
      "cell_type": "code",
      "execution_count": 2,
      "metadata": {
        "colab": {
          "base_uri": "https://localhost:8080/"
        },
        "id": "jqFrQfxxXXPA",
        "outputId": "1acfcb03-f410-4a17-cbfc-cec2c91f6ac2"
      },
      "outputs": [
        {
          "name": "stdout",
          "output_type": "stream",
          "text": [
            "Mounted at /content/drive\n"
          ]
        }
      ],
      "source": [
        "from google.colab import drive\n",
        "drive.mount('/content/drive')"
      ]
    },
    {
      "cell_type": "code",
      "execution_count": 4,
      "metadata": {
        "execution": {
          "iopub.execute_input": "2023-03-14T19:48:46.270754Z",
          "iopub.status.busy": "2023-03-14T19:48:46.269333Z",
          "iopub.status.idle": "2023-03-14T19:48:46.837906Z",
          "shell.execute_reply": "2023-03-14T19:48:46.836799Z",
          "shell.execute_reply.started": "2023-03-14T19:48:46.270702Z"
        },
        "id": "Sj72hiTn8-6a"
      },
      "outputs": [],
      "source": [
        "imdb_dataset = pd.read_csv('/content/drive/MyDrive/data/IMDB Dataset.csv')"
      ]
    },
    {
      "cell_type": "markdown",
      "metadata": {
        "id": "2FGNDKns8-6a"
      },
      "source": [
        "## Explore Data"
      ]
    },
    {
      "cell_type": "code",
      "execution_count": 5,
      "metadata": {
        "colab": {
          "base_uri": "https://localhost:8080/",
          "height": 206
        },
        "execution": {
          "iopub.execute_input": "2023-03-14T19:48:46.839514Z",
          "iopub.status.busy": "2023-03-14T19:48:46.839153Z",
          "iopub.status.idle": "2023-03-14T19:48:46.855347Z",
          "shell.execute_reply": "2023-03-14T19:48:46.854147Z",
          "shell.execute_reply.started": "2023-03-14T19:48:46.839476Z"
        },
        "id": "RKx3rwoY8-6a",
        "outputId": "5fb4a2f1-340e-425c-877b-3b111245f012"
      },
      "outputs": [
        {
          "data": {
            "text/html": [
              "\n",
              "  <div id=\"df-984a8f6c-fb22-40cc-87c5-092fc0ddc650\">\n",
              "    <div class=\"colab-df-container\">\n",
              "      <div>\n",
              "<style scoped>\n",
              "    .dataframe tbody tr th:only-of-type {\n",
              "        vertical-align: middle;\n",
              "    }\n",
              "\n",
              "    .dataframe tbody tr th {\n",
              "        vertical-align: top;\n",
              "    }\n",
              "\n",
              "    .dataframe thead th {\n",
              "        text-align: right;\n",
              "    }\n",
              "</style>\n",
              "<table border=\"1\" class=\"dataframe\">\n",
              "  <thead>\n",
              "    <tr style=\"text-align: right;\">\n",
              "      <th></th>\n",
              "      <th>review</th>\n",
              "      <th>sentiment</th>\n",
              "    </tr>\n",
              "  </thead>\n",
              "  <tbody>\n",
              "    <tr>\n",
              "      <th>0</th>\n",
              "      <td>One of the other reviewers has mentioned that ...</td>\n",
              "      <td>positive</td>\n",
              "    </tr>\n",
              "    <tr>\n",
              "      <th>1</th>\n",
              "      <td>A wonderful little production. &lt;br /&gt;&lt;br /&gt;The...</td>\n",
              "      <td>positive</td>\n",
              "    </tr>\n",
              "    <tr>\n",
              "      <th>2</th>\n",
              "      <td>I thought this was a wonderful way to spend ti...</td>\n",
              "      <td>positive</td>\n",
              "    </tr>\n",
              "    <tr>\n",
              "      <th>3</th>\n",
              "      <td>Basically there's a family where a little boy ...</td>\n",
              "      <td>negative</td>\n",
              "    </tr>\n",
              "    <tr>\n",
              "      <th>4</th>\n",
              "      <td>Petter Mattei's \"Love in the Time of Money\" is...</td>\n",
              "      <td>positive</td>\n",
              "    </tr>\n",
              "  </tbody>\n",
              "</table>\n",
              "</div>\n",
              "      <button class=\"colab-df-convert\" onclick=\"convertToInteractive('df-984a8f6c-fb22-40cc-87c5-092fc0ddc650')\"\n",
              "              title=\"Convert this dataframe to an interactive table.\"\n",
              "              style=\"display:none;\">\n",
              "        \n",
              "  <svg xmlns=\"http://www.w3.org/2000/svg\" height=\"24px\"viewBox=\"0 0 24 24\"\n",
              "       width=\"24px\">\n",
              "    <path d=\"M0 0h24v24H0V0z\" fill=\"none\"/>\n",
              "    <path d=\"M18.56 5.44l.94 2.06.94-2.06 2.06-.94-2.06-.94-.94-2.06-.94 2.06-2.06.94zm-11 1L8.5 8.5l.94-2.06 2.06-.94-2.06-.94L8.5 2.5l-.94 2.06-2.06.94zm10 10l.94 2.06.94-2.06 2.06-.94-2.06-.94-.94-2.06-.94 2.06-2.06.94z\"/><path d=\"M17.41 7.96l-1.37-1.37c-.4-.4-.92-.59-1.43-.59-.52 0-1.04.2-1.43.59L10.3 9.45l-7.72 7.72c-.78.78-.78 2.05 0 2.83L4 21.41c.39.39.9.59 1.41.59.51 0 1.02-.2 1.41-.59l7.78-7.78 2.81-2.81c.8-.78.8-2.07 0-2.86zM5.41 20L4 18.59l7.72-7.72 1.47 1.35L5.41 20z\"/>\n",
              "  </svg>\n",
              "      </button>\n",
              "      \n",
              "  <style>\n",
              "    .colab-df-container {\n",
              "      display:flex;\n",
              "      flex-wrap:wrap;\n",
              "      gap: 12px;\n",
              "    }\n",
              "\n",
              "    .colab-df-convert {\n",
              "      background-color: #E8F0FE;\n",
              "      border: none;\n",
              "      border-radius: 50%;\n",
              "      cursor: pointer;\n",
              "      display: none;\n",
              "      fill: #1967D2;\n",
              "      height: 32px;\n",
              "      padding: 0 0 0 0;\n",
              "      width: 32px;\n",
              "    }\n",
              "\n",
              "    .colab-df-convert:hover {\n",
              "      background-color: #E2EBFA;\n",
              "      box-shadow: 0px 1px 2px rgba(60, 64, 67, 0.3), 0px 1px 3px 1px rgba(60, 64, 67, 0.15);\n",
              "      fill: #174EA6;\n",
              "    }\n",
              "\n",
              "    [theme=dark] .colab-df-convert {\n",
              "      background-color: #3B4455;\n",
              "      fill: #D2E3FC;\n",
              "    }\n",
              "\n",
              "    [theme=dark] .colab-df-convert:hover {\n",
              "      background-color: #434B5C;\n",
              "      box-shadow: 0px 1px 3px 1px rgba(0, 0, 0, 0.15);\n",
              "      filter: drop-shadow(0px 1px 2px rgba(0, 0, 0, 0.3));\n",
              "      fill: #FFFFFF;\n",
              "    }\n",
              "  </style>\n",
              "\n",
              "      <script>\n",
              "        const buttonEl =\n",
              "          document.querySelector('#df-984a8f6c-fb22-40cc-87c5-092fc0ddc650 button.colab-df-convert');\n",
              "        buttonEl.style.display =\n",
              "          google.colab.kernel.accessAllowed ? 'block' : 'none';\n",
              "\n",
              "        async function convertToInteractive(key) {\n",
              "          const element = document.querySelector('#df-984a8f6c-fb22-40cc-87c5-092fc0ddc650');\n",
              "          const dataTable =\n",
              "            await google.colab.kernel.invokeFunction('convertToInteractive',\n",
              "                                                     [key], {});\n",
              "          if (!dataTable) return;\n",
              "\n",
              "          const docLinkHtml = 'Like what you see? Visit the ' +\n",
              "            '<a target=\"_blank\" href=https://colab.research.google.com/notebooks/data_table.ipynb>data table notebook</a>'\n",
              "            + ' to learn more about interactive tables.';\n",
              "          element.innerHTML = '';\n",
              "          dataTable['output_type'] = 'display_data';\n",
              "          await google.colab.output.renderOutput(dataTable, element);\n",
              "          const docLink = document.createElement('div');\n",
              "          docLink.innerHTML = docLinkHtml;\n",
              "          element.appendChild(docLink);\n",
              "        }\n",
              "      </script>\n",
              "    </div>\n",
              "  </div>\n",
              "  "
            ],
            "text/plain": [
              "                                              review sentiment\n",
              "0  One of the other reviewers has mentioned that ...  positive\n",
              "1  A wonderful little production. <br /><br />The...  positive\n",
              "2  I thought this was a wonderful way to spend ti...  positive\n",
              "3  Basically there's a family where a little boy ...  negative\n",
              "4  Petter Mattei's \"Love in the Time of Money\" is...  positive"
            ]
          },
          "execution_count": 5,
          "metadata": {},
          "output_type": "execute_result"
        }
      ],
      "source": [
        "imdb_dataset.head()"
      ]
    },
    {
      "cell_type": "code",
      "execution_count": 6,
      "metadata": {
        "colab": {
          "base_uri": "https://localhost:8080/",
          "height": 206
        },
        "execution": {
          "iopub.execute_input": "2023-03-14T19:48:47.178784Z",
          "iopub.status.busy": "2023-03-14T19:48:47.178197Z",
          "iopub.status.idle": "2023-03-14T19:48:47.188841Z",
          "shell.execute_reply": "2023-03-14T19:48:47.187646Z",
          "shell.execute_reply.started": "2023-03-14T19:48:47.178746Z"
        },
        "id": "OfP9oScN8-6b",
        "outputId": "4e064228-ba9b-4b11-ec7a-1b5ced14425f"
      },
      "outputs": [
        {
          "data": {
            "text/html": [
              "\n",
              "  <div id=\"df-324d9557-0d74-43bf-bfe9-ba1f20b3d8b9\">\n",
              "    <div class=\"colab-df-container\">\n",
              "      <div>\n",
              "<style scoped>\n",
              "    .dataframe tbody tr th:only-of-type {\n",
              "        vertical-align: middle;\n",
              "    }\n",
              "\n",
              "    .dataframe tbody tr th {\n",
              "        vertical-align: top;\n",
              "    }\n",
              "\n",
              "    .dataframe thead th {\n",
              "        text-align: right;\n",
              "    }\n",
              "</style>\n",
              "<table border=\"1\" class=\"dataframe\">\n",
              "  <thead>\n",
              "    <tr style=\"text-align: right;\">\n",
              "      <th></th>\n",
              "      <th>review</th>\n",
              "      <th>sentiment</th>\n",
              "    </tr>\n",
              "  </thead>\n",
              "  <tbody>\n",
              "    <tr>\n",
              "      <th>49995</th>\n",
              "      <td>I thought this movie did a down right good job...</td>\n",
              "      <td>positive</td>\n",
              "    </tr>\n",
              "    <tr>\n",
              "      <th>49996</th>\n",
              "      <td>Bad plot, bad dialogue, bad acting, idiotic di...</td>\n",
              "      <td>negative</td>\n",
              "    </tr>\n",
              "    <tr>\n",
              "      <th>49997</th>\n",
              "      <td>I am a Catholic taught in parochial elementary...</td>\n",
              "      <td>negative</td>\n",
              "    </tr>\n",
              "    <tr>\n",
              "      <th>49998</th>\n",
              "      <td>I'm going to have to disagree with the previou...</td>\n",
              "      <td>negative</td>\n",
              "    </tr>\n",
              "    <tr>\n",
              "      <th>49999</th>\n",
              "      <td>No one expects the Star Trek movies to be high...</td>\n",
              "      <td>negative</td>\n",
              "    </tr>\n",
              "  </tbody>\n",
              "</table>\n",
              "</div>\n",
              "      <button class=\"colab-df-convert\" onclick=\"convertToInteractive('df-324d9557-0d74-43bf-bfe9-ba1f20b3d8b9')\"\n",
              "              title=\"Convert this dataframe to an interactive table.\"\n",
              "              style=\"display:none;\">\n",
              "        \n",
              "  <svg xmlns=\"http://www.w3.org/2000/svg\" height=\"24px\"viewBox=\"0 0 24 24\"\n",
              "       width=\"24px\">\n",
              "    <path d=\"M0 0h24v24H0V0z\" fill=\"none\"/>\n",
              "    <path d=\"M18.56 5.44l.94 2.06.94-2.06 2.06-.94-2.06-.94-.94-2.06-.94 2.06-2.06.94zm-11 1L8.5 8.5l.94-2.06 2.06-.94-2.06-.94L8.5 2.5l-.94 2.06-2.06.94zm10 10l.94 2.06.94-2.06 2.06-.94-2.06-.94-.94-2.06-.94 2.06-2.06.94z\"/><path d=\"M17.41 7.96l-1.37-1.37c-.4-.4-.92-.59-1.43-.59-.52 0-1.04.2-1.43.59L10.3 9.45l-7.72 7.72c-.78.78-.78 2.05 0 2.83L4 21.41c.39.39.9.59 1.41.59.51 0 1.02-.2 1.41-.59l7.78-7.78 2.81-2.81c.8-.78.8-2.07 0-2.86zM5.41 20L4 18.59l7.72-7.72 1.47 1.35L5.41 20z\"/>\n",
              "  </svg>\n",
              "      </button>\n",
              "      \n",
              "  <style>\n",
              "    .colab-df-container {\n",
              "      display:flex;\n",
              "      flex-wrap:wrap;\n",
              "      gap: 12px;\n",
              "    }\n",
              "\n",
              "    .colab-df-convert {\n",
              "      background-color: #E8F0FE;\n",
              "      border: none;\n",
              "      border-radius: 50%;\n",
              "      cursor: pointer;\n",
              "      display: none;\n",
              "      fill: #1967D2;\n",
              "      height: 32px;\n",
              "      padding: 0 0 0 0;\n",
              "      width: 32px;\n",
              "    }\n",
              "\n",
              "    .colab-df-convert:hover {\n",
              "      background-color: #E2EBFA;\n",
              "      box-shadow: 0px 1px 2px rgba(60, 64, 67, 0.3), 0px 1px 3px 1px rgba(60, 64, 67, 0.15);\n",
              "      fill: #174EA6;\n",
              "    }\n",
              "\n",
              "    [theme=dark] .colab-df-convert {\n",
              "      background-color: #3B4455;\n",
              "      fill: #D2E3FC;\n",
              "    }\n",
              "\n",
              "    [theme=dark] .colab-df-convert:hover {\n",
              "      background-color: #434B5C;\n",
              "      box-shadow: 0px 1px 3px 1px rgba(0, 0, 0, 0.15);\n",
              "      filter: drop-shadow(0px 1px 2px rgba(0, 0, 0, 0.3));\n",
              "      fill: #FFFFFF;\n",
              "    }\n",
              "  </style>\n",
              "\n",
              "      <script>\n",
              "        const buttonEl =\n",
              "          document.querySelector('#df-324d9557-0d74-43bf-bfe9-ba1f20b3d8b9 button.colab-df-convert');\n",
              "        buttonEl.style.display =\n",
              "          google.colab.kernel.accessAllowed ? 'block' : 'none';\n",
              "\n",
              "        async function convertToInteractive(key) {\n",
              "          const element = document.querySelector('#df-324d9557-0d74-43bf-bfe9-ba1f20b3d8b9');\n",
              "          const dataTable =\n",
              "            await google.colab.kernel.invokeFunction('convertToInteractive',\n",
              "                                                     [key], {});\n",
              "          if (!dataTable) return;\n",
              "\n",
              "          const docLinkHtml = 'Like what you see? Visit the ' +\n",
              "            '<a target=\"_blank\" href=https://colab.research.google.com/notebooks/data_table.ipynb>data table notebook</a>'\n",
              "            + ' to learn more about interactive tables.';\n",
              "          element.innerHTML = '';\n",
              "          dataTable['output_type'] = 'display_data';\n",
              "          await google.colab.output.renderOutput(dataTable, element);\n",
              "          const docLink = document.createElement('div');\n",
              "          docLink.innerHTML = docLinkHtml;\n",
              "          element.appendChild(docLink);\n",
              "        }\n",
              "      </script>\n",
              "    </div>\n",
              "  </div>\n",
              "  "
            ],
            "text/plain": [
              "                                                  review sentiment\n",
              "49995  I thought this movie did a down right good job...  positive\n",
              "49996  Bad plot, bad dialogue, bad acting, idiotic di...  negative\n",
              "49997  I am a Catholic taught in parochial elementary...  negative\n",
              "49998  I'm going to have to disagree with the previou...  negative\n",
              "49999  No one expects the Star Trek movies to be high...  negative"
            ]
          },
          "execution_count": 6,
          "metadata": {},
          "output_type": "execute_result"
        }
      ],
      "source": [
        "imdb_dataset.tail()"
      ]
    },
    {
      "cell_type": "code",
      "execution_count": 7,
      "metadata": {
        "colab": {
          "base_uri": "https://localhost:8080/",
          "height": 175
        },
        "execution": {
          "iopub.execute_input": "2023-03-14T19:48:47.720892Z",
          "iopub.status.busy": "2023-03-14T19:48:47.719536Z",
          "iopub.status.idle": "2023-03-14T19:48:47.805374Z",
          "shell.execute_reply": "2023-03-14T19:48:47.804323Z",
          "shell.execute_reply.started": "2023-03-14T19:48:47.720839Z"
        },
        "id": "KCh7gjfs8-6b",
        "outputId": "af63c340-8823-41f0-c1ed-0dff541c807d"
      },
      "outputs": [
        {
          "data": {
            "text/html": [
              "\n",
              "  <div id=\"df-32f057b2-7bd4-4ed5-bc0b-67a5f20fd914\">\n",
              "    <div class=\"colab-df-container\">\n",
              "      <div>\n",
              "<style scoped>\n",
              "    .dataframe tbody tr th:only-of-type {\n",
              "        vertical-align: middle;\n",
              "    }\n",
              "\n",
              "    .dataframe tbody tr th {\n",
              "        vertical-align: top;\n",
              "    }\n",
              "\n",
              "    .dataframe thead th {\n",
              "        text-align: right;\n",
              "    }\n",
              "</style>\n",
              "<table border=\"1\" class=\"dataframe\">\n",
              "  <thead>\n",
              "    <tr style=\"text-align: right;\">\n",
              "      <th></th>\n",
              "      <th>review</th>\n",
              "      <th>sentiment</th>\n",
              "    </tr>\n",
              "  </thead>\n",
              "  <tbody>\n",
              "    <tr>\n",
              "      <th>count</th>\n",
              "      <td>50000</td>\n",
              "      <td>50000</td>\n",
              "    </tr>\n",
              "    <tr>\n",
              "      <th>unique</th>\n",
              "      <td>49582</td>\n",
              "      <td>2</td>\n",
              "    </tr>\n",
              "    <tr>\n",
              "      <th>top</th>\n",
              "      <td>Loved today's show!!! It was a variety and not...</td>\n",
              "      <td>positive</td>\n",
              "    </tr>\n",
              "    <tr>\n",
              "      <th>freq</th>\n",
              "      <td>5</td>\n",
              "      <td>25000</td>\n",
              "    </tr>\n",
              "  </tbody>\n",
              "</table>\n",
              "</div>\n",
              "      <button class=\"colab-df-convert\" onclick=\"convertToInteractive('df-32f057b2-7bd4-4ed5-bc0b-67a5f20fd914')\"\n",
              "              title=\"Convert this dataframe to an interactive table.\"\n",
              "              style=\"display:none;\">\n",
              "        \n",
              "  <svg xmlns=\"http://www.w3.org/2000/svg\" height=\"24px\"viewBox=\"0 0 24 24\"\n",
              "       width=\"24px\">\n",
              "    <path d=\"M0 0h24v24H0V0z\" fill=\"none\"/>\n",
              "    <path d=\"M18.56 5.44l.94 2.06.94-2.06 2.06-.94-2.06-.94-.94-2.06-.94 2.06-2.06.94zm-11 1L8.5 8.5l.94-2.06 2.06-.94-2.06-.94L8.5 2.5l-.94 2.06-2.06.94zm10 10l.94 2.06.94-2.06 2.06-.94-2.06-.94-.94-2.06-.94 2.06-2.06.94z\"/><path d=\"M17.41 7.96l-1.37-1.37c-.4-.4-.92-.59-1.43-.59-.52 0-1.04.2-1.43.59L10.3 9.45l-7.72 7.72c-.78.78-.78 2.05 0 2.83L4 21.41c.39.39.9.59 1.41.59.51 0 1.02-.2 1.41-.59l7.78-7.78 2.81-2.81c.8-.78.8-2.07 0-2.86zM5.41 20L4 18.59l7.72-7.72 1.47 1.35L5.41 20z\"/>\n",
              "  </svg>\n",
              "      </button>\n",
              "      \n",
              "  <style>\n",
              "    .colab-df-container {\n",
              "      display:flex;\n",
              "      flex-wrap:wrap;\n",
              "      gap: 12px;\n",
              "    }\n",
              "\n",
              "    .colab-df-convert {\n",
              "      background-color: #E8F0FE;\n",
              "      border: none;\n",
              "      border-radius: 50%;\n",
              "      cursor: pointer;\n",
              "      display: none;\n",
              "      fill: #1967D2;\n",
              "      height: 32px;\n",
              "      padding: 0 0 0 0;\n",
              "      width: 32px;\n",
              "    }\n",
              "\n",
              "    .colab-df-convert:hover {\n",
              "      background-color: #E2EBFA;\n",
              "      box-shadow: 0px 1px 2px rgba(60, 64, 67, 0.3), 0px 1px 3px 1px rgba(60, 64, 67, 0.15);\n",
              "      fill: #174EA6;\n",
              "    }\n",
              "\n",
              "    [theme=dark] .colab-df-convert {\n",
              "      background-color: #3B4455;\n",
              "      fill: #D2E3FC;\n",
              "    }\n",
              "\n",
              "    [theme=dark] .colab-df-convert:hover {\n",
              "      background-color: #434B5C;\n",
              "      box-shadow: 0px 1px 3px 1px rgba(0, 0, 0, 0.15);\n",
              "      filter: drop-shadow(0px 1px 2px rgba(0, 0, 0, 0.3));\n",
              "      fill: #FFFFFF;\n",
              "    }\n",
              "  </style>\n",
              "\n",
              "      <script>\n",
              "        const buttonEl =\n",
              "          document.querySelector('#df-32f057b2-7bd4-4ed5-bc0b-67a5f20fd914 button.colab-df-convert');\n",
              "        buttonEl.style.display =\n",
              "          google.colab.kernel.accessAllowed ? 'block' : 'none';\n",
              "\n",
              "        async function convertToInteractive(key) {\n",
              "          const element = document.querySelector('#df-32f057b2-7bd4-4ed5-bc0b-67a5f20fd914');\n",
              "          const dataTable =\n",
              "            await google.colab.kernel.invokeFunction('convertToInteractive',\n",
              "                                                     [key], {});\n",
              "          if (!dataTable) return;\n",
              "\n",
              "          const docLinkHtml = 'Like what you see? Visit the ' +\n",
              "            '<a target=\"_blank\" href=https://colab.research.google.com/notebooks/data_table.ipynb>data table notebook</a>'\n",
              "            + ' to learn more about interactive tables.';\n",
              "          element.innerHTML = '';\n",
              "          dataTable['output_type'] = 'display_data';\n",
              "          await google.colab.output.renderOutput(dataTable, element);\n",
              "          const docLink = document.createElement('div');\n",
              "          docLink.innerHTML = docLinkHtml;\n",
              "          element.appendChild(docLink);\n",
              "        }\n",
              "      </script>\n",
              "    </div>\n",
              "  </div>\n",
              "  "
            ],
            "text/plain": [
              "                                                   review sentiment\n",
              "count                                               50000     50000\n",
              "unique                                              49582         2\n",
              "top     Loved today's show!!! It was a variety and not...  positive\n",
              "freq                                                    5     25000"
            ]
          },
          "execution_count": 7,
          "metadata": {},
          "output_type": "execute_result"
        }
      ],
      "source": [
        "imdb_dataset.describe()"
      ]
    },
    {
      "cell_type": "code",
      "execution_count": 8,
      "metadata": {
        "colab": {
          "base_uri": "https://localhost:8080/"
        },
        "execution": {
          "iopub.execute_input": "2023-03-14T19:48:48.012750Z",
          "iopub.status.busy": "2023-03-14T19:48:48.011723Z",
          "iopub.status.idle": "2023-03-14T19:48:48.036722Z",
          "shell.execute_reply": "2023-03-14T19:48:48.035253Z",
          "shell.execute_reply.started": "2023-03-14T19:48:48.012708Z"
        },
        "id": "pZfDdDUU8-6b",
        "outputId": "b6a27be4-277a-4411-d09f-afa2e1c12c08"
      },
      "outputs": [
        {
          "name": "stdout",
          "output_type": "stream",
          "text": [
            "<class 'pandas.core.frame.DataFrame'>\n",
            "RangeIndex: 50000 entries, 0 to 49999\n",
            "Data columns (total 2 columns):\n",
            " #   Column     Non-Null Count  Dtype \n",
            "---  ------     --------------  ----- \n",
            " 0   review     50000 non-null  object\n",
            " 1   sentiment  50000 non-null  object\n",
            "dtypes: object(2)\n",
            "memory usage: 781.4+ KB\n"
          ]
        }
      ],
      "source": [
        "imdb_dataset.info()"
      ]
    },
    {
      "cell_type": "markdown",
      "metadata": {
        "id": "wtx8SiJz8-6c"
      },
      "source": [
        "### Visualize the distribution of sentiment labels (Positive and Negative)"
      ]
    },
    {
      "cell_type": "code",
      "execution_count": 9,
      "metadata": {
        "colab": {
          "base_uri": "https://localhost:8080/",
          "height": 312
        },
        "execution": {
          "iopub.execute_input": "2023-03-14T19:48:48.828071Z",
          "iopub.status.busy": "2023-03-14T19:48:48.827046Z",
          "iopub.status.idle": "2023-03-14T19:48:49.056703Z",
          "shell.execute_reply": "2023-03-14T19:48:49.055627Z",
          "shell.execute_reply.started": "2023-03-14T19:48:48.828021Z"
        },
        "id": "gs2RzJoB8-6c",
        "outputId": "0b43839f-aeee-491f-b03f-a29ab89bee92"
      },
      "outputs": [
        {
          "data": {
            "text/plain": [
              "<Axes: title={'center': 'Distribution of Sentiment Labels'}, xlabel='sentiment', ylabel='count'>"
            ]
          },
          "execution_count": 9,
          "metadata": {},
          "output_type": "execute_result"
        },
        {
          "data": {
            "image/png": "[encoded data removed]",
            "text/plain": [
              "<Figure size 432x288 with 1 Axes>"
            ]
          },
          "metadata": {
            "needs_background": "light"
          },
          "output_type": "display_data"
        }
      ],
      "source": [
        "plt.title('Distribution of Sentiment Labels')\n",
        "sns.countplot(data=imdb_dataset, x='sentiment')"
      ]
    },
    {
      "cell_type": "markdown",
      "metadata": {
        "id": "nlnJ92ea8-6d"
      },
      "source": [
        "We see that the number of instances in the the two sentiment labels (Positive and Negative) are roughly the same, so this means that it is a balanced dataset and there is no class imbalance problem here, and we can use **Accuracy** as the performance metric"
      ]
    },
    {
      "cell_type": "code",
      "execution_count": 10,
      "metadata": {
        "execution": {
          "iopub.execute_input": "2023-03-14T19:48:49.585328Z",
          "iopub.status.busy": "2023-03-14T19:48:49.584104Z",
          "iopub.status.idle": "2023-03-14T19:48:49.594272Z",
          "shell.execute_reply": "2023-03-14T19:48:49.593005Z",
          "shell.execute_reply.started": "2023-03-14T19:48:49.585277Z"
        },
        "id": "RjeA3zuT8-6d"
      },
      "outputs": [],
      "source": [
        "X = imdb_dataset.drop(columns=['sentiment'])\n",
        "y = imdb_dataset[['sentiment']]"
      ]
    },
    {
      "cell_type": "markdown",
      "metadata": {
        "id": "s3VAa86S8-6d"
      },
      "source": [
        "## Cleaning and Encoding the IMDB Reviews\n",
        "\n",
        "We will clean now the IMDB Reviews by performing the following cleaning steps:\n",
        "1. Remove HTML tags and special characters\n",
        "2. Remove punctuation and lowercase text\n",
        "3. Remove stop words\n",
        "4. Lemmatization\n",
        "\n",
        "We will encode the sentiment labels and convert them to **one hot encoding**"
      ]
    },
    {
      "cell_type": "code",
      "execution_count": 11,
      "metadata": {
        "execution": {
          "iopub.execute_input": "2023-03-14T19:48:50.237733Z",
          "iopub.status.busy": "2023-03-14T19:48:50.236688Z",
          "iopub.status.idle": "2023-03-14T19:48:50.245899Z",
          "shell.execute_reply": "2023-03-14T19:48:50.244491Z",
          "shell.execute_reply.started": "2023-03-14T19:48:50.237672Z"
        },
        "id": "pGK4C4ig8-6d"
      },
      "outputs": [],
      "source": [
        "def clean_imdb(text):\n",
        "    \"\"\"\n",
        "    Cleans a string of text by performing the following steps:\n",
        "    1. Removes HTML tags from the text using BeautifulSoup.\n",
        "    2. Removes non-alphanumeric characters (including punctuation) from the text using regular expressions and\n",
        "    converts the text to lowercase.\n",
        "    3. Tokenizes the text into a list of words using the `nltk.word_tokenize()` function.\n",
        "    4. Removes stop words from the list of words using the `nltk.corpus.stopwords()` module.\n",
        "    5. Lemmatizes the list of words using the `nltk.stem.WordNetLemmatizer()` class.\n",
        "    6. Joins the lemmatized list of words back into a single string.\n",
        "\n",
        "    Args:\n",
        "        text (str): A string of text to be cleaned.\n",
        "\n",
        "    Returns:\n",
        "        str: A cleaned version of the input text.\n",
        "    \"\"\"\n",
        "    # Remove HTML tags and special characters\n",
        "    text = BeautifulSoup(text, \"html.parser\").get_text()  # remove HTML tags\n",
        "    text = text.lower() # convert to lowercase\n",
        "    text = re.sub(r\"[^a-zA-Z0-9 ]\", \"\", text)  # remove non-alphanumeric characters\n",
        "\n",
        "    # Tokenize the text\n",
        "    tokens = nltk.word_tokenize(text)\n",
        "\n",
        "    # Remove stop words\n",
        "    stop_words = set(stopwords.words(\"english\"))\n",
        "    tokens = [word for word in tokens if word not in stop_words]\n",
        "\n",
        "    # Initialize the Porter Stemmer\n",
        "    stemmer = PorterStemmer()\n",
        "    tokens = [stemmer.stem(word) for word in tokens]\n",
        "\n",
        "    # Join the tokens back into a single string\n",
        "    cleaned_text = \" \".join(tokens)\n",
        "\n",
        "    return cleaned_text"
      ]
    },
    {
      "cell_type": "code",
      "execution_count": 12,
      "metadata": {
        "colab": {
          "base_uri": "https://localhost:8080/"
        },
        "execution": {
          "iopub.execute_input": "2023-03-14T19:48:50.651102Z",
          "iopub.status.busy": "2023-03-14T19:48:50.650375Z",
          "iopub.status.idle": "2023-03-14T19:52:21.151360Z",
          "shell.execute_reply": "2023-03-14T19:52:21.150281Z",
          "shell.execute_reply.started": "2023-03-14T19:48:50.651062Z"
        },
        "id": "DyjPqsbr8-6e",
        "outputId": "5e1a22c7-0677-4ef3-f41a-40729837c239"
      },
      "outputs": [
        {
          "name": "stderr",
          "output_type": "stream",
          "text": [
            "<ipython-input-11-4e7c8a230782>:19: MarkupResemblesLocatorWarning: The input looks more like a filename than markup. You may want to open this file and pass the filehandle into Beautiful Soup.\n",
            "  text = BeautifulSoup(text, \"html.parser\").get_text()  # remove HTML tags\n"
          ]
        }
      ],
      "source": [
        "# clean the imdb reviews data\n",
        "X_cleaned = X['review'].apply(clean_imdb)\n",
        "X_cleaned = pd.DataFrame(X_cleaned,columns=['review'])\n",
        "# encode the sentiment labels\n",
        "y_encoded = pd.get_dummies(y, columns=['sentiment'])"
      ]
    },
    {
      "cell_type": "markdown",
      "metadata": {
        "id": "cdwd57YW8-6e"
      },
      "source": [
        "## Divide the data into Train and Test"
      ]
    },
    {
      "cell_type": "code",
      "execution_count": 13,
      "metadata": {
        "colab": {
          "base_uri": "https://localhost:8080/"
        },
        "execution": {
          "iopub.execute_input": "2023-03-14T20:24:09.859047Z",
          "iopub.status.busy": "2023-03-14T20:24:09.858108Z",
          "iopub.status.idle": "2023-03-14T20:24:09.875117Z",
          "shell.execute_reply": "2023-03-14T20:24:09.874101Z",
          "shell.execute_reply.started": "2023-03-14T20:24:09.858990Z"
        },
        "id": "bz98jAoA8-6e",
        "outputId": "b4d9dc30-7481-4e7a-8915-af7ee34fb363"
      },
      "outputs": [
        {
          "name": "stdout",
          "output_type": "stream",
          "text": [
            "The shape of X_train is (45000, 1) and the shape of y_train is (45000, 2)\n",
            "The shape of X_test is (5000, 1) and the shape of y_test is (5000, 2)\n"
          ]
        }
      ],
      "source": [
        "X_train, X_test, y_train, y_test = train_test_split(X_cleaned, y_encoded, test_size=0.1, random_state=42)\n",
        "print('The shape of X_train is', X_train.shape, 'and the shape of y_train is', y_train.shape)\n",
        "print('The shape of X_test is', X_test.shape, 'and the shape of y_test is', y_test.shape)"
      ]
    },
    {
      "cell_type": "markdown",
      "metadata": {
        "id": "Ryd5Stai8-6f"
      },
      "source": [
        "## Tokenization and Vectorization of IMDB Reviews\n",
        "\n",
        "We will Split the text into individual words or tokens.and then Convert the text data into numerical vectors that can be fed into a deep learning model"
      ]
    },
    {
      "cell_type": "code",
      "execution_count": 22,
      "metadata": {
        "execution": {
          "iopub.execute_input": "2023-03-14T20:24:12.356988Z",
          "iopub.status.busy": "2023-03-14T20:24:12.356306Z",
          "iopub.status.idle": "2023-03-14T20:24:12.361808Z",
          "shell.execute_reply": "2023-03-14T20:24:12.360644Z",
          "shell.execute_reply.started": "2023-03-14T20:24:12.356947Z"
        },
        "id": "-hXj39tQ8-6f"
      },
      "outputs": [],
      "source": [
        "MAX_LEN = 250 # max length of padded sequences\n",
        "VOCAB_SIZE = 50000"
      ]
    },
    {
      "cell_type": "code",
      "execution_count": 23,
      "metadata": {
        "execution": {
          "iopub.execute_input": "2023-03-14T20:24:13.133209Z",
          "iopub.status.busy": "2023-03-14T20:24:13.132560Z",
          "iopub.status.idle": "2023-03-14T20:24:16.971256Z",
          "shell.execute_reply": "2023-03-14T20:24:16.970151Z",
          "shell.execute_reply.started": "2023-03-14T20:24:13.133170Z"
        },
        "id": "TKIqZMjaMlyT"
      },
      "outputs": [],
      "source": [
        "vectorizer_layer = TextVectorization(\n",
        "        max_tokens= VOCAB_SIZE,\n",
        "        output_sequence_length= MAX_LEN,\n",
        "    )\n",
        "vectorizer_layer.adapt(X_train['review'])"
      ]
    },
    {
      "cell_type": "markdown",
      "metadata": {
        "id": "zRPpqiqN8-6f"
      },
      "source": [
        "## Deep Learnig  Model Architecture"
      ]
    },
    {
      "cell_type": "code",
      "execution_count": 34,
      "metadata": {
        "execution": {
          "iopub.execute_input": "2023-03-14T20:24:52.529591Z",
          "iopub.status.busy": "2023-03-14T20:24:52.528962Z",
          "iopub.status.idle": "2023-03-14T20:24:52.535623Z",
          "shell.execute_reply": "2023-03-14T20:24:52.534350Z",
          "shell.execute_reply.started": "2023-03-14T20:24:52.529537Z"
        },
        "id": "yveHBpH28-6g"
      },
      "outputs": [],
      "source": [
        "# hyperparameters\n",
        "LOSS = 'binary_crossentropy'\n",
        "OPTIMIZER = 'adam'\n",
        "METRICS = ['accuracy']\n",
        "ACTIVATION_OUTPUT = 'softmax'\n",
        "ACTIVATION_LAYER = 'relu'\n",
        "LSTM_UNITS = 128\n",
        "OUTPUT_DIM = 32\n",
        "BATCH_SIZE = 128\n",
        "EPOCHS = 8"
      ]
    },
    {
      "cell_type": "code",
      "execution_count": 38,
      "metadata": {
        "execution": {
          "iopub.execute_input": "2023-03-14T20:25:08.586541Z",
          "iopub.status.busy": "2023-03-14T20:25:08.585921Z",
          "iopub.status.idle": "2023-03-14T20:25:08.594295Z",
          "shell.execute_reply": "2023-03-14T20:25:08.593070Z",
          "shell.execute_reply.started": "2023-03-14T20:25:08.586501Z"
        },
        "id": "CwcLYX8V8-6g"
      },
      "outputs": [],
      "source": [
        "def imdb_model(input_dim, output_dim, lstm_units, activation_layer, activation_output, max_len, loss, optimizer, metrics):\n",
        "    model = Sequential([\n",
        "        tf.keras.Input(shape=(1,), dtype=tf.string),\n",
        "        vectorizer_layer,\n",
        "        Embedding(input_dim= input_dim, output_dim= output_dim, input_length= max_len),\n",
        "        Bidirectional(LSTM(units= lstm_units)),\n",
        "        Dropout(rate=0.4),\n",
        "        Dense(units=32, activation = activation_layer),\n",
        "        Dense(units=2, activation= activation_output)\n",
        "    ])\n",
        "    \n",
        "    model.compile(loss= loss, optimizer= optimizer, metrics= metrics)\n",
        "    return model"
      ]
    },
    {
      "cell_type": "code",
      "execution_count": 39,
      "metadata": {
        "colab": {
          "base_uri": "https://localhost:8080/"
        },
        "execution": {
          "iopub.execute_input": "2023-03-14T20:25:08.836140Z",
          "iopub.status.busy": "2023-03-14T20:25:08.835306Z",
          "iopub.status.idle": "2023-03-14T20:25:09.867498Z",
          "shell.execute_reply": "2023-03-14T20:25:09.866633Z",
          "shell.execute_reply.started": "2023-03-14T20:25:08.836100Z"
        },
        "id": "_EeSPgqx8-6g",
        "outputId": "51d693f1-b2af-49e7-9d7e-2d07ea75d1df"
      },
      "outputs": [
        {
          "name": "stdout",
          "output_type": "stream",
          "text": [
            "Model: \"sequential_5\"\n",
            "_________________________________________________________________\n",
            " Layer (type)                Output Shape              Param #   \n",
            "=================================================================\n",
            " text_vectorization_1 (TextV  (None, 250)              0         \n",
            " ectorization)                                                   \n",
            "                                                                 \n",
            " embedding_5 (Embedding)     (None, 250, 32)           1600000   \n",
            "                                                                 \n",
            " bidirectional_5 (Bidirectio  (None, 256)              164864    \n",
            " nal)                                                            \n",
            "                                                                 \n",
            " dropout_5 (Dropout)         (None, 256)               0         \n",
            "                                                                 \n",
            " dense_10 (Dense)            (None, 32)                8224      \n",
            "                                                                 \n",
            " dense_11 (Dense)            (None, 2)                 66        \n",
            "                                                                 \n",
            "=================================================================\n",
            "Total params: 1,773,154\n",
            "Trainable params: 1,773,154\n",
            "Non-trainable params: 0\n",
            "_________________________________________________________________\n"
          ]
        }
      ],
      "source": [
        "model = imdb_model(VOCAB_SIZE, OUTPUT_DIM, LSTM_UNITS, ACTIVATION_LAYER, ACTIVATION_OUTPUT, \n",
        "                   MAX_LEN, LOSS, OPTIMIZER, METRICS)\n",
        "model.summary()"
      ]
    },
    {
      "cell_type": "markdown",
      "metadata": {
        "id": "OnQDlGF-8-6g"
      },
      "source": [
        "## Model Training"
      ]
    },
    {
      "cell_type": "code",
      "execution_count": 40,
      "metadata": {
        "colab": {
          "base_uri": "https://localhost:8080/"
        },
        "execution": {
          "iopub.execute_input": "2023-03-14T20:25:33.617484Z",
          "iopub.status.busy": "2023-03-14T20:25:33.617104Z",
          "iopub.status.idle": "2023-03-14T20:30:36.569396Z",
          "shell.execute_reply": "2023-03-14T20:30:36.568220Z",
          "shell.execute_reply.started": "2023-03-14T20:25:33.617449Z"
        },
        "id": "W_CVHgRj8-6h",
        "outputId": "6c42aeb0-660f-4ade-8402-0abab6343dfa"
      },
      "outputs": [
        {
          "name": "stdout",
          "output_type": "stream",
          "text": [
            "Epoch 1/8\n",
            "317/317 [==============================] - 45s 129ms/step - loss: 0.4294 - accuracy: 0.7890 - val_loss: 0.2832 - val_accuracy: 0.8891\n",
            "Epoch 2/8\n",
            "317/317 [==============================] - 30s 95ms/step - loss: 0.2062 - accuracy: 0.9249 - val_loss: 0.3134 - val_accuracy: 0.8873\n",
            "Epoch 3/8\n",
            "317/317 [==============================] - 25s 78ms/step - loss: 0.1394 - accuracy: 0.9517 - val_loss: 0.3513 - val_accuracy: 0.8787\n",
            "Epoch 4/8\n",
            "317/317 [==============================] - 19s 59ms/step - loss: 0.0946 - accuracy: 0.9687 - val_loss: 0.3738 - val_accuracy: 0.8749\n",
            "Epoch 5/8\n",
            "317/317 [==============================] - 17s 53ms/step - loss: 0.0830 - accuracy: 0.9727 - val_loss: 0.4272 - val_accuracy: 0.8782\n",
            "Epoch 6/8\n",
            "317/317 [==============================] - 17s 53ms/step - loss: 0.0605 - accuracy: 0.9807 - val_loss: 0.4464 - val_accuracy: 0.8796\n",
            "Epoch 7/8\n",
            "317/317 [==============================] - 16s 51ms/step - loss: 0.0379 - accuracy: 0.9891 - val_loss: 0.5176 - val_accuracy: 0.8762\n",
            "Epoch 8/8\n",
            "317/317 [==============================] - 13s 42ms/step - loss: 0.0539 - accuracy: 0.9825 - val_loss: 0.4787 - val_accuracy: 0.8789\n"
          ]
        }
      ],
      "source": [
        "history = model.fit(X_train, y_train, batch_size= BATCH_SIZE, epochs= EPOCHS, validation_split= 0.1)"
      ]
    },
    {
      "cell_type": "code",
      "execution_count": 41,
      "metadata": {
        "execution": {
          "iopub.execute_input": "2023-03-14T20:30:36.572695Z",
          "iopub.status.busy": "2023-03-14T20:30:36.572279Z",
          "iopub.status.idle": "2023-03-14T20:30:36.581526Z",
          "shell.execute_reply": "2023-03-14T20:30:36.580439Z",
          "shell.execute_reply.started": "2023-03-14T20:30:36.572655Z"
        },
        "id": "JLDDFUu9XLmg"
      },
      "outputs": [],
      "source": [
        "def plot_curves(history):\n",
        "    \"\"\"\n",
        "    Plots the loss and accuracy curves for a model.\n",
        "\n",
        "    Parameters:\n",
        "    - history: A history object returned by a model during training.\n",
        "\n",
        "    Returns:\n",
        "    - None. The function displays the plot using Matplotlib.\n",
        "    \"\"\"\n",
        "    title_loss = 'Model loss per epoch '\n",
        "    title_accuracy = 'Model accuracy per epoch '\n",
        "    fig , axis = plt.subplots(nrows=1, ncols=2)\n",
        "    # dimensions of figure\n",
        "    fig.set_figheight(6)\n",
        "    fig.set_figwidth(14)\n",
        "    # loss\n",
        "    loss = history.history['loss']\n",
        "    val_loss = history.history['val_loss']\n",
        "    # accuracy\n",
        "    accuracy = history.history['accuracy']\n",
        "    val_accuracy = history.history['val_accuracy']\n",
        "    epoch = np.arange(150)\n",
        "    # loss curve\n",
        "    axis[0].plot(loss,label='Train')\n",
        "    axis[0].plot(val_loss,label='Validation')\n",
        "    axis[0].set_xlabel('epoch')\n",
        "    axis[0].set_ylabel('loss')\n",
        "    axis[0].set_title(title_loss)\n",
        "    axis[0].legend()\n",
        "    # accuracy curve\n",
        "    axis[1].plot(accuracy, label='Train')\n",
        "    axis[1].plot(val_accuracy, label='Validation')\n",
        "    axis[1].set_xlabel('epoch')\n",
        "    axis[1].set_ylabel('accuracy')\n",
        "    axis[1].set_title(title_accuracy)\n",
        "    axis[1].legend()"
      ]
    },
    {
      "cell_type": "code",
      "execution_count": 42,
      "metadata": {
        "colab": {
          "base_uri": "https://localhost:8080/",
          "height": 404
        },
        "execution": {
          "iopub.execute_input": "2023-03-14T20:30:36.583673Z",
          "iopub.status.busy": "2023-03-14T20:30:36.583039Z",
          "iopub.status.idle": "2023-03-14T20:30:37.043820Z",
          "shell.execute_reply": "2023-03-14T20:30:37.042620Z",
          "shell.execute_reply.started": "2023-03-14T20:30:36.583632Z"
        },
        "id": "vBf7U4SNXLmg",
        "outputId": "5822669a-a3cb-493b-9a0a-daf432346625"
      },
      "outputs": [
        {
          "data": {
            "image/png": "[encoded data removed]",
            "text/plain": [
              "<Figure size 1008x432 with 2 Axes>"
            ]
          },
          "metadata": {
            "needs_background": "light"
          },
          "output_type": "display_data"
        }
      ],
      "source": [
        "plot_curves(history)"
      ]
    },
    {
      "cell_type": "code",
      "execution_count": 43,
      "metadata": {
        "colab": {
          "base_uri": "https://localhost:8080/"
        },
        "execution": {
          "iopub.execute_input": "2023-03-14T20:30:37.047148Z",
          "iopub.status.busy": "2023-03-14T20:30:37.046562Z",
          "iopub.status.idle": "2023-03-14T20:30:42.221776Z",
          "shell.execute_reply": "2023-03-14T20:30:42.220648Z",
          "shell.execute_reply.started": "2023-03-14T20:30:37.047099Z"
        },
        "id": "OhTkt6RKXLmg",
        "outputId": "81c190ef-f98b-477c-ea1e-9843f7f3932f"
      },
      "outputs": [
        {
          "name": "stdout",
          "output_type": "stream",
          "text": [
            "157/157 [==============================] - 2s 12ms/step - loss: 0.4898 - accuracy: 0.8736\n",
            "The loss of the model on Test Data is: 0.48977532982826233\n",
            "The accuracy of the model on Test Data is: 0.8736000061035156\n"
          ]
        }
      ],
      "source": [
        "loss, accuracy = model.evaluate(X_test,y_test)\n",
        "print('The loss of the model on Test Data is:', loss)\n",
        "print('The accuracy of the model on Test Data is:', accuracy)"
      ]
    },
    {
      "cell_type": "code",
      "execution_count": 47,
      "metadata": {
        "colab": {
          "base_uri": "https://localhost:8080/"
        },
        "id": "wd5OdRf2XLmg",
        "outputId": "96ee258f-623f-46e3-b519-04fac65464ed"
      },
      "outputs": [
        {
          "name": "stderr",
          "output_type": "stream",
          "text": [
            "WARNING:absl:Found untraced functions such as lstm_cell_16_layer_call_fn, lstm_cell_16_layer_call_and_return_conditional_losses, lstm_cell_17_layer_call_fn, lstm_cell_17_layer_call_and_return_conditional_losses while saving (showing 4 of 4). These functions will not be directly callable after loading.\n"
          ]
        }
      ],
      "source": [
        "# save the model\n",
        "saved_model_name = 'drive/MyDrive/data/imdb_sentiment_analysis'\n",
        "model.save(saved_model_name,save_format='tf')"
      ]
    }
  ],
  "metadata": {
    "accelerator": "GPU",
    "colab": {
      "provenance": []
    },
    "gpuClass": "standard",
    "kernelspec": {
      "display_name": "Python 3",
      "language": "python",
      "name": "python3"
    },
    "language_info": {
      "codemirror_mode": {
        "name": "ipython",
        "version": 3
      },
      "file_extension": ".py",
      "mimetype": "text/x-python",
      "name": "python",
      "nbconvert_exporter": "python",
      "pygments_lexer": "ipython3",
      "version": "3.8.8"
    },
    "vscode": {
      "interpreter": {
        "hash": "81aa396d7ed62602242c01b807f9762de13f9c3a404432573a99be8bc4dd23e0"
      }
    }
  },
  "nbformat": 4,
  "nbformat_minor": 0
}
